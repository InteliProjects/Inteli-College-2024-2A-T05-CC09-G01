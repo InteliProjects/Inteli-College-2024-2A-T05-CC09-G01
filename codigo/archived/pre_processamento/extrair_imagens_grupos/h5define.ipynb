{
  "nbformat": 4,
  "nbformat_minor": 0,
  "metadata": {
    "colab": {
      "provenance": []
    },
    "kernelspec": {
      "name": "python3",
      "display_name": "Python 3"
    },
    "language_info": {
      "name": "python"
    }
  },
  "cells": [
    {
      "cell_type": "code",
      "source": [
        "!pip install h5py\n",
        "!pip install opencv-python\n",
        "!pip install numpy"
      ],
      "metadata": {
        "colab": {
          "base_uri": "https://localhost:8080/"
        },
        "id": "TcBcxMchHRpD",
        "outputId": "954266e1-bacc-48a3-d929-2675ba64b142"
      },
      "execution_count": 2,
      "outputs": [
        {
          "output_type": "stream",
          "name": "stdout",
          "text": [
            "Requirement already satisfied: h5py in /usr/local/lib/python3.10/dist-packages (3.11.0)\n",
            "Requirement already satisfied: numpy>=1.17.3 in /usr/local/lib/python3.10/dist-packages (from h5py) (1.26.4)\n",
            "Requirement already satisfied: opencv-python in /usr/local/lib/python3.10/dist-packages (4.10.0.84)\n",
            "Requirement already satisfied: numpy>=1.21.2 in /usr/local/lib/python3.10/dist-packages (from opencv-python) (1.26.4)\n",
            "Requirement already satisfied: numpy in /usr/local/lib/python3.10/dist-packages (1.26.4)\n"
          ]
        }
      ]
    },
    {
      "cell_type": "code",
      "execution_count": 8,
      "metadata": {
        "colab": {
          "base_uri": "https://localhost:8080/"
        },
        "id": "smmiSEsPHN1L",
        "outputId": "f5637eb7-dcac-4594-abba-fd7cb57246e5"
      },
      "outputs": [
        {
          "output_type": "stream",
          "name": "stdout",
          "text": [
            "Drive already mounted at /content/drive; to attempt to forcibly remount, call drive.mount(\"/content/drive\", force_remount=True).\n"
          ]
        }
      ],
      "source": [
        "from google.colab import drive\n",
        "drive.mount('/content/drive')"
      ]
    },
    {
      "cell_type": "code",
      "source": [
        "import os\n",
        "import cv2\n",
        "import numpy as np\n",
        "import h5py"
      ],
      "metadata": {
        "id": "vOnZqOSRHf6h"
      },
      "execution_count": 9,
      "outputs": []
    },
    {
      "cell_type": "code",
      "source": [
        "folder1 = '/content/drive/MyDrive/OrganizedImages/Matched/X'\n",
        "folder2 = '/content/drive/MyDrive/OrganizedImages/Matched/Y'\n",
        "\n",
        "# Verifique se as pastas existem\n",
        "assert os.path.exists(folder1), f\"Folder {folder1} does not exist.\"\n",
        "assert os.path.exists(folder2), f\"Folder {folder2} does not exist.\"\n"
      ],
      "metadata": {
        "id": "9rhx1NVNJcpX"
      },
      "execution_count": 20,
      "outputs": []
    },
    {
      "cell_type": "code",
      "source": [
        "import os\n",
        "import shutil\n",
        "\n",
        "# Pastas originais\n",
        "folder_X = '/content/drive/MyDrive/OrganizedImages/X'\n",
        "folder_Y = '/content/drive/MyDrive/OrganizedImages/Y'\n",
        "\n",
        "# Novas pastas para armazenar os pares correspondentes\n",
        "new_folder_X = '/content/drive/MyDrive/OrganizedImages/Matched/X'\n",
        "new_folder_Y = '/content/drive/MyDrive/OrganizedImages/Matched/Y'\n",
        "\n",
        "# Crie as novas pastas se elas não existirem\n",
        "os.makedirs(new_folder_X, exist_ok=True)\n",
        "os.makedirs(new_folder_Y, exist_ok=True)\n",
        "\n",
        "# Obtenha uma lista dos nomes das imagens em ambas as pastas\n",
        "x_images = set(os.listdir(folder_X))\n",
        "y_images = set(os.listdir(folder_Y))\n",
        "\n",
        "# Filtre para encontrar os pares correspondentes\n",
        "matching_images = []\n",
        "\n",
        "for x_image in x_images:\n",
        "    y_image = x_image.replace('x', 'y')  # Substitui 'x' por 'y' no nome do arquivo\n",
        "    if y_image in y_images:\n",
        "        matching_images.append((x_image, y_image))\n",
        "\n",
        "# Copie ou mova as imagens correspondentes para as novas pastas\n",
        "for x_image, y_image in matching_images:\n",
        "    shutil.copy2(os.path.join(folder_X, x_image), os.path.join(new_folder_X, x_image))\n",
        "    shutil.copy2(os.path.join(folder_Y, y_image), os.path.join(new_folder_Y, y_image))\n",
        "\n",
        "print(f\"Imagens correspondentes movidas/copiedas para {new_folder_X} e {new_folder_Y}\")\n",
        "print(f\"Total de pares correspondentes encontrados: {len(matching_images)}\")\n"
      ],
      "metadata": {
        "colab": {
          "base_uri": "https://localhost:8080/"
        },
        "id": "YhfIOI4UO-3m",
        "outputId": "b6df4dd8-6936-41d6-a96e-e31b5969ff66"
      },
      "execution_count": 18,
      "outputs": [
        {
          "output_type": "stream",
          "name": "stdout",
          "text": [
            "Imagens correspondentes movidas/copiedas para /content/drive/MyDrive/OrganizedImages/Matched/X e /content/drive/MyDrive/OrganizedImages/Matched/Y\n",
            "Total de pares correspondentes encontrados: 2837\n"
          ]
        }
      ]
    },
    {
      "cell_type": "code",
      "source": [
        "print(f\"Total de imagens em {new_folder_X}: {len(os.listdir(new_folder_X))}\")\n",
        "print(f\"Total de imagens em {new_folder_Y}: {len(os.listdir(new_folder_Y))}\")\n"
      ],
      "metadata": {
        "colab": {
          "base_uri": "https://localhost:8080/"
        },
        "id": "XGG68bp4PDcO",
        "outputId": "eb20d3e4-9e6d-4866-9a1c-a7a1b44f150f"
      },
      "execution_count": 19,
      "outputs": [
        {
          "output_type": "stream",
          "name": "stdout",
          "text": [
            "Total de imagens em /content/drive/MyDrive/OrganizedImages/Matched/X: 2837\n",
            "Total de imagens em /content/drive/MyDrive/OrganizedImages/Matched/Y: 2837\n"
          ]
        }
      ]
    },
    {
      "cell_type": "code",
      "source": [
        "import os\n",
        "import cv2\n",
        "import numpy as np\n",
        "\n",
        "def load_images_from_folder(folder, img_size=(128, 128)):\n",
        "    images = []\n",
        "    for filename in os.listdir(folder):\n",
        "        img_path = os.path.join(folder, filename)\n",
        "        img = cv2.imread(img_path, cv2.IMREAD_GRAYSCALE)  # Carrega a imagem em escala de cinza\n",
        "        if img is not None:\n",
        "            img_resized = cv2.resize(img, img_size)  # Redimensiona a imagem\n",
        "            images.append(img_resized)\n",
        "    return np.array(images)\n",
        "\n",
        "# Novas pastas de origem\n",
        "new_folder_X = '/content/drive/MyDrive/OrganizedImages/Matched/X'\n",
        "new_folder_Y = '/content/drive/MyDrive/OrganizedImages/Matched/Y'\n",
        "\n",
        "# Carregue as imagens das novas pastas\n",
        "X = load_images_from_folder(new_folder_X)\n",
        "y = load_images_from_folder(new_folder_Y)\n",
        "\n",
        "# Verifique se as imagens foram carregadas corretamente\n",
        "if X.size == 0 or y.size == 0:\n",
        "    print(\"Erro: Não foram carregadas imagens de uma ou ambas as pastas.\")\n",
        "else:\n",
        "    print(f\"Carregado {X.shape[0]} imagens de {new_folder_X} com tamanho {X.shape[1:]} cada.\")\n",
        "    print(f\"Carregado {y.shape[0]} imagens de {new_folder_Y} com tamanho {y.shape[1:]} cada.\")\n"
      ],
      "metadata": {
        "colab": {
          "base_uri": "https://localhost:8080/"
        },
        "id": "4jpxvwX5RReH",
        "outputId": "2339e815-7d2c-47d6-ec14-162a2a925c03"
      },
      "execution_count": 24,
      "outputs": [
        {
          "output_type": "stream",
          "name": "stdout",
          "text": [
            "Carregado 2837 imagens de /content/drive/MyDrive/OrganizedImages/Matched/X com tamanho (128, 128) cada.\n",
            "Carregado 2837 imagens de /content/drive/MyDrive/OrganizedImages/Matched/Y com tamanho (128, 128) cada.\n"
          ]
        }
      ]
    },
    {
      "cell_type": "code",
      "source": [
        "import h5py\n",
        "\n",
        "if 'X' in locals() and 'y' in locals():\n",
        "    HDF5_FILE = '/content/drive/MyDrive/OrganizedImages/Matched/labels.h5'\n",
        "\n",
        "    with h5py.File(HDF5_FILE, 'w') as hf:\n",
        "        hf.create_dataset('X_save', data=X, compression='gzip', compression_opts=9)\n",
        "        hf.create_dataset('y_save', data=y, compression='gzip', compression_opts=9)\n",
        "\n",
        "    print(f'Dados salvos no arquivo HDF5 em {HDF5_FILE}')\n",
        "else:\n",
        "    print(\"Erro: As variáveis 'X' e 'y' não estão definidas.\")\n"
      ],
      "metadata": {
        "colab": {
          "base_uri": "https://localhost:8080/"
        },
        "id": "9A49t2_8RUc-",
        "outputId": "3459f0b8-75f9-478e-8b3f-e8c123d00319"
      },
      "execution_count": 25,
      "outputs": [
        {
          "output_type": "stream",
          "name": "stdout",
          "text": [
            "Dados salvos no arquivo HDF5 em /content/drive/MyDrive/OrganizedImages/Matched/labels.h5\n"
          ]
        }
      ]
    }
  ]
}