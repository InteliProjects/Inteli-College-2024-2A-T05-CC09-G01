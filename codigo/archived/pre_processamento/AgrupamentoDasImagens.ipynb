{
  "nbformat": 4,
  "nbformat_minor": 0,
  "metadata": {
    "colab": {
      "provenance": [],
      "authorship_tag": "ABX9TyM17JyDHXT1xLp2KD5HVx0A",
      "include_colab_link": true
    },
    "kernelspec": {
      "name": "python3",
      "display_name": "Python 3"
    },
    "language_info": {
      "name": "python"
    }
  },
  "cells": [
    {
      "cell_type": "markdown",
      "metadata": {
        "id": "view-in-github",
        "colab_type": "text"
      },
      "source": [
        "<a href=\"https://colab.research.google.com/github/Inteli-College/2024-2A-T05-CC09-G01/blob/29-tsukamoto-model/AgrupamentoDasImagens.ipynb\" target=\"_parent\"><img src=\"https://colab.research.google.com/assets/colab-badge.svg\" alt=\"Open In Colab\"/></a>"
      ]
    },
    {
      "cell_type": "code",
      "execution_count": 6,
      "metadata": {
        "colab": {
          "base_uri": "https://localhost:8080/"
        },
        "id": "efQJW0zawjla",
        "outputId": "242fb16c-d115-4022-d3f9-eda1204471c9"
      },
      "outputs": [
        {
          "output_type": "stream",
          "name": "stdout",
          "text": [
            "Drive already mounted at /content/drive; to attempt to forcibly remount, call drive.mount(\"/content/drive\", force_remount=True).\n"
          ]
        }
      ],
      "source": [
        "from google.colab import drive\n",
        "drive.mount('/content/drive')"
      ]
    },
    {
      "cell_type": "markdown",
      "source": [],
      "metadata": {
        "id": "EvZgnN8N9BrG"
      }
    },
    {
      "cell_type": "code",
      "source": [
        "image_directories = [\n",
        "    ['/content/drive/MyDrive/CattleImageRepository/G1/01-08-2024/X', '/content/drive/MyDrive/CattleImageRepository/G1/01-08-2024/y'],\n",
        "    ['/content/drive/MyDrive/CattleImageRepository/G1/08-08-2024/X', '/content/drive/MyDrive/CattleImageRepository/G1/08-08-2024/Y'],\n",
        "    ['/content/drive/MyDrive/CattleImageRepository/G2/06-08/Video_1/X', '/content/drive/MyDrive/CattleImageRepository/G2/06-08/Video_1/Y'],\n",
        "    ['/content/drive/MyDrive/CattleImageRepository/G2/06-08/Video_2/X', '/content/drive/MyDrive/CattleImageRepository/G2/06-08/Video_2/Y'],\n",
        "    ['/content/drive/MyDrive/CattleImageRepository/G4/02-08/X', '/content/drive/MyDrive/CattleImageRepository/G4/02-08/Y']\n",
        "]\n"
      ],
      "metadata": {
        "id": "Sxiv0ms98FRj"
      },
      "execution_count": 47,
      "outputs": []
    },
    {
      "cell_type": "code",
      "source": [
        "print(image_directories[0])"
      ],
      "metadata": {
        "colab": {
          "base_uri": "https://localhost:8080/"
        },
        "id": "r0ltmE8yHj6g",
        "outputId": "afedd69a-3970-4fc0-c8e2-87a2b8f28e7b"
      },
      "execution_count": 51,
      "outputs": [
        {
          "output_type": "stream",
          "name": "stdout",
          "text": [
            "['/content/drive/MyDrive/CattleImageRepository/G1/01-08-2024/X', '/content/drive/MyDrive/CattleImageRepository/G1/01-08-2024/y']\n"
          ]
        }
      ]
    },
    {
      "cell_type": "code",
      "source": [
        "import os\n",
        "import cv2\n",
        "import numpy as np\n",
        "\n",
        "x = []\n",
        "y = []\n",
        "\n",
        "for directory_pair in image_directories:\n",
        "  for i in directory_pair:\n",
        "      for file in os.listdir(i):\n",
        "          if file.endswith(('x.png', 'x.jpg', 'x.jpeg', 'x1.png', 'x1.jpg', 'x1.jpeg')):\n",
        "              x.append(os.path.join(i, file))\n",
        "          elif file.endswith(('y.png', 'y.jpg', 'y.jpeg', 'y1.png', 'y1.jpg', 'y1.jpeg')):\n",
        "              y.append(os.path.join(i, file))\n",
        "\n",
        "\n",
        "\n"
      ],
      "metadata": {
        "id": "1dxD43dz8fcm"
      },
      "execution_count": 73,
      "outputs": []
    },
    {
      "cell_type": "code",
      "source": [
        "print(len(x))\n",
        "print(len(y))"
      ],
      "metadata": {
        "colab": {
          "base_uri": "https://localhost:8080/"
        },
        "id": "K7UWcDG9C3uo",
        "outputId": "c321774c-b95c-47c2-86de-a2255fd2e63c"
      },
      "execution_count": 74,
      "outputs": [
        {
          "output_type": "stream",
          "name": "stdout",
          "text": [
            "3048\n",
            "3217\n"
          ]
        }
      ]
    },
    {
      "cell_type": "code",
      "source": [
        "def get_base_name(filename, suffix):\n",
        "    base = os.path.basename(filename)\n",
        "    base = base.replace(suffix, '')\n",
        "    return base\n",
        "\n",
        "# Filtrar as listas para garantir que ambos os pares existam\n",
        "x_filtered = []\n",
        "y_filtered = []\n",
        "\n",
        "for x_file in x:\n",
        "    base_name = get_base_name(x_file, '_x')\n",
        "    corresponding_y = [y_file for y_file in y if get_base_name(y_file, '_y') == base_name]\n",
        "    if corresponding_y:\n",
        "        x_filtered.append(x_file)\n",
        "        y_filtered.append(corresponding_y[0])\n",
        "\n",
        "# Certifique-se de que ambos os pares têm o mesmo tamanho\n",
        "print(\"Número de arquivos em X após o filtro:\", len(x_filtered))\n",
        "print(\"Número de arquivos em Y após o filtro:\", len(y_filtered))"
      ],
      "metadata": {
        "colab": {
          "base_uri": "https://localhost:8080/"
        },
        "id": "IZH0q5ZwIWx0",
        "outputId": "723a90ae-f696-4539-f8c9-ff2b6af7dda3"
      },
      "execution_count": 75,
      "outputs": [
        {
          "output_type": "stream",
          "name": "stdout",
          "text": [
            "Número de arquivos em X após o filtro: 2897\n",
            "Número de arquivos em Y após o filtro: 2897\n"
          ]
        }
      ]
    },
    {
      "cell_type": "code",
      "source": [
        "print(x_filtered[1232])\n",
        "print(y_filtered[1232])"
      ],
      "metadata": {
        "colab": {
          "base_uri": "https://localhost:8080/"
        },
        "id": "RdsLmYAFIsk_",
        "outputId": "0c6fefaa-1ccd-4729-f36f-2c9fd5d70c4a"
      },
      "execution_count": 77,
      "outputs": [
        {
          "output_type": "stream",
          "name": "stdout",
          "text": [
            "/content/drive/MyDrive/CattleImageRepository/G1/08-08-2024/X/08-08-2024_video_00000000215000500_027087_x.png\n",
            "/content/drive/MyDrive/CattleImageRepository/G1/08-08-2024/Y/08-08-2024_video_00000000215000500_027087_y.png\n"
          ]
        }
      ]
    },
    {
      "cell_type": "code",
      "source": [
        "img = cv2.imread(x_filtered[20])\n",
        "\n",
        "img"
      ],
      "metadata": {
        "colab": {
          "base_uri": "https://localhost:8080/",
          "height": 169
        },
        "id": "e6aDhdrsIbqk",
        "outputId": "b959094b-5ced-4062-aba9-035efde8eaaa"
      },
      "execution_count": 78,
      "outputs": [
        {
          "output_type": "execute_result",
          "data": {
            "text/plain": [
              "array([[[142, 142, 142],\n",
              "        [143, 143, 143],\n",
              "        [153, 153, 153],\n",
              "        ...,\n",
              "        [156, 156, 156],\n",
              "        [167, 167, 167],\n",
              "        [179, 179, 179]],\n",
              "\n",
              "       [[143, 143, 143],\n",
              "        [140, 140, 140],\n",
              "        [143, 143, 143],\n",
              "        ...,\n",
              "        [166, 166, 166],\n",
              "        [181, 181, 181],\n",
              "        [183, 183, 183]],\n",
              "\n",
              "       [[144, 144, 144],\n",
              "        [140, 140, 140],\n",
              "        [139, 139, 139],\n",
              "        ...,\n",
              "        [158, 158, 158],\n",
              "        [145, 145, 145],\n",
              "        [146, 146, 146]],\n",
              "\n",
              "       ...,\n",
              "\n",
              "       [[ 56,  56,  56],\n",
              "        [ 56,  56,  56],\n",
              "        [ 56,  56,  56],\n",
              "        ...,\n",
              "        [ 63,  63,  63],\n",
              "        [ 63,  63,  63],\n",
              "        [ 62,  62,  62]],\n",
              "\n",
              "       [[ 56,  56,  56],\n",
              "        [ 56,  56,  56],\n",
              "        [ 56,  56,  56],\n",
              "        ...,\n",
              "        [ 65,  65,  65],\n",
              "        [ 65,  65,  65],\n",
              "        [ 66,  66,  66]],\n",
              "\n",
              "       [[ 55,  55,  55],\n",
              "        [ 55,  55,  55],\n",
              "        [ 55,  55,  55],\n",
              "        ...,\n",
              "        [ 65,  65,  65],\n",
              "        [ 65,  65,  65],\n",
              "        [ 65,  65,  65]]], dtype=uint8)"
            ],
            "text/html": [
              "<style>\n",
              "      .ndarray_repr .ndarray_raw_data {\n",
              "        display: none;\n",
              "      }\n",
              "      .ndarray_repr.show_array .ndarray_raw_data {\n",
              "        display: block;\n",
              "      }\n",
              "      .ndarray_repr.show_array .ndarray_image_preview {\n",
              "        display: none;\n",
              "      }\n",
              "      </style>\n",
              "      <div id=\"id-688c64d4-eff6-4fa0-9fee-c198796758c1\" class=\"ndarray_repr\"><pre>ndarray (128, 128, 3) <button style=\"padding: 0 2px;\">show data</button></pre><img src=\"data:image/png;base64,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\" class=\"ndarray_image_preview\" /><pre class=\"ndarray_raw_data\">array([[[142, 142, 142],\n",
              "        [143, 143, 143],\n",
              "        [153, 153, 153],\n",
              "        ...,\n",
              "        [156, 156, 156],\n",
              "        [167, 167, 167],\n",
              "        [179, 179, 179]],\n",
              "\n",
              "       [[143, 143, 143],\n",
              "        [140, 140, 140],\n",
              "        [143, 143, 143],\n",
              "        ...,\n",
              "        [166, 166, 166],\n",
              "        [181, 181, 181],\n",
              "        [183, 183, 183]],\n",
              "\n",
              "       [[144, 144, 144],\n",
              "        [140, 140, 140],\n",
              "        [139, 139, 139],\n",
              "        ...,\n",
              "        [158, 158, 158],\n",
              "        [145, 145, 145],\n",
              "        [146, 146, 146]],\n",
              "\n",
              "       ...,\n",
              "\n",
              "       [[ 56,  56,  56],\n",
              "        [ 56,  56,  56],\n",
              "        [ 56,  56,  56],\n",
              "        ...,\n",
              "        [ 63,  63,  63],\n",
              "        [ 63,  63,  63],\n",
              "        [ 62,  62,  62]],\n",
              "\n",
              "       [[ 56,  56,  56],\n",
              "        [ 56,  56,  56],\n",
              "        [ 56,  56,  56],\n",
              "        ...,\n",
              "        [ 65,  65,  65],\n",
              "        [ 65,  65,  65],\n",
              "        [ 66,  66,  66]],\n",
              "\n",
              "       [[ 55,  55,  55],\n",
              "        [ 55,  55,  55],\n",
              "        [ 55,  55,  55],\n",
              "        ...,\n",
              "        [ 65,  65,  65],\n",
              "        [ 65,  65,  65],\n",
              "        [ 65,  65,  65]]], dtype=uint8)</pre></div><script>\n",
              "      (() => {\n",
              "      const titles = ['show data', 'hide data'];\n",
              "      let index = 0\n",
              "      document.querySelector('#id-688c64d4-eff6-4fa0-9fee-c198796758c1 button').onclick = (e) => {\n",
              "        document.querySelector('#id-688c64d4-eff6-4fa0-9fee-c198796758c1').classList.toggle('show_array');\n",
              "        index = (++index) % 2;\n",
              "        document.querySelector('#id-688c64d4-eff6-4fa0-9fee-c198796758c1 button').textContent = titles[index];\n",
              "        e.preventDefault();\n",
              "        e.stopPropagation();\n",
              "      }\n",
              "      })();\n",
              "    </script>"
            ]
          },
          "metadata": {},
          "execution_count": 78
        }
      ]
    },
    {
      "cell_type": "code",
      "source": [
        "img = cv2.imread(y_filtered[20])\n",
        "\n",
        "img"
      ],
      "metadata": {
        "colab": {
          "base_uri": "https://localhost:8080/",
          "height": 169
        },
        "id": "3VOlzaAqIiQg",
        "outputId": "8c1dd0f7-450e-4781-ecb7-a76fdbb94051"
      },
      "execution_count": 79,
      "outputs": [
        {
          "output_type": "execute_result",
          "data": {
            "text/plain": [
              "array([[[0, 0, 0],\n",
              "        [0, 0, 0],\n",
              "        [0, 0, 0],\n",
              "        ...,\n",
              "        [0, 0, 0],\n",
              "        [0, 0, 0],\n",
              "        [0, 0, 0]],\n",
              "\n",
              "       [[0, 0, 0],\n",
              "        [0, 0, 0],\n",
              "        [0, 0, 0],\n",
              "        ...,\n",
              "        [0, 0, 0],\n",
              "        [0, 0, 0],\n",
              "        [0, 0, 0]],\n",
              "\n",
              "       [[0, 0, 0],\n",
              "        [0, 0, 0],\n",
              "        [0, 0, 0],\n",
              "        ...,\n",
              "        [0, 0, 0],\n",
              "        [0, 0, 0],\n",
              "        [0, 0, 0]],\n",
              "\n",
              "       ...,\n",
              "\n",
              "       [[0, 0, 0],\n",
              "        [0, 0, 0],\n",
              "        [0, 0, 0],\n",
              "        ...,\n",
              "        [0, 0, 0],\n",
              "        [0, 0, 0],\n",
              "        [0, 0, 0]],\n",
              "\n",
              "       [[0, 0, 0],\n",
              "        [0, 0, 0],\n",
              "        [0, 0, 0],\n",
              "        ...,\n",
              "        [0, 0, 0],\n",
              "        [0, 0, 0],\n",
              "        [0, 0, 0]],\n",
              "\n",
              "       [[0, 0, 0],\n",
              "        [0, 0, 0],\n",
              "        [0, 0, 0],\n",
              "        ...,\n",
              "        [0, 0, 0],\n",
              "        [0, 0, 0],\n",
              "        [0, 0, 0]]], dtype=uint8)"
            ],
            "text/html": [
              "<style>\n",
              "      .ndarray_repr .ndarray_raw_data {\n",
              "        display: none;\n",
              "      }\n",
              "      .ndarray_repr.show_array .ndarray_raw_data {\n",
              "        display: block;\n",
              "      }\n",
              "      .ndarray_repr.show_array .ndarray_image_preview {\n",
              "        display: none;\n",
              "      }\n",
              "      </style>\n",
              "      <div id=\"id-98fb314d-9405-40f7-9383-c4cb3ff1e000\" class=\"ndarray_repr\"><pre>ndarray (128, 128, 3) <button style=\"padding: 0 2px;\">show data</button></pre><img src=\"data:image/png;base64,iVBORw0KGgoAAAANSUhEUgAAAIAAAACACAIAAABMXPacAAABNElEQVR4nO3asW3CUBiFURNlJRokBrGX8Bw0bEXpmUiXJkGKDPIXmXPkDoGf+LnvYswwAAAAAAAAAAAAAAAAwLuZpum+a1u+mR9bnoyf1gxg48/IvklAbM0ADofDy9fxtiQgZgAxJRyTgJgSjtmCYragmC0oJgExA4gp4ZgExJRwTAJiBhD7XPGcvISv14cPnc/D8bjhUhLjOD5zy/t0ug/D78efb5o/PC6XZ5b2/frbUcIxHRAzgJgr4ZgExJRwTAJiBhAzgNianyJye/oWFgzgdtv+nP+X64CYDoi5DohJQMwAYko4JgExJRyTgJgBxJRwTAJiSjgmATEDiCnhmATElHDMFhSzBcVsQTEJiBlATAnHJCCmhGMSEFvz39BlWeZ5fvlSAAAAAAAAAAAAAAAAYIUvPYzF03kH6wYAAAAASUVORK5CYII=\" class=\"ndarray_image_preview\" /><pre class=\"ndarray_raw_data\">array([[[0, 0, 0],\n",
              "        [0, 0, 0],\n",
              "        [0, 0, 0],\n",
              "        ...,\n",
              "        [0, 0, 0],\n",
              "        [0, 0, 0],\n",
              "        [0, 0, 0]],\n",
              "\n",
              "       [[0, 0, 0],\n",
              "        [0, 0, 0],\n",
              "        [0, 0, 0],\n",
              "        ...,\n",
              "        [0, 0, 0],\n",
              "        [0, 0, 0],\n",
              "        [0, 0, 0]],\n",
              "\n",
              "       [[0, 0, 0],\n",
              "        [0, 0, 0],\n",
              "        [0, 0, 0],\n",
              "        ...,\n",
              "        [0, 0, 0],\n",
              "        [0, 0, 0],\n",
              "        [0, 0, 0]],\n",
              "\n",
              "       ...,\n",
              "\n",
              "       [[0, 0, 0],\n",
              "        [0, 0, 0],\n",
              "        [0, 0, 0],\n",
              "        ...,\n",
              "        [0, 0, 0],\n",
              "        [0, 0, 0],\n",
              "        [0, 0, 0]],\n",
              "\n",
              "       [[0, 0, 0],\n",
              "        [0, 0, 0],\n",
              "        [0, 0, 0],\n",
              "        ...,\n",
              "        [0, 0, 0],\n",
              "        [0, 0, 0],\n",
              "        [0, 0, 0]],\n",
              "\n",
              "       [[0, 0, 0],\n",
              "        [0, 0, 0],\n",
              "        [0, 0, 0],\n",
              "        ...,\n",
              "        [0, 0, 0],\n",
              "        [0, 0, 0],\n",
              "        [0, 0, 0]]], dtype=uint8)</pre></div><script>\n",
              "      (() => {\n",
              "      const titles = ['show data', 'hide data'];\n",
              "      let index = 0\n",
              "      document.querySelector('#id-98fb314d-9405-40f7-9383-c4cb3ff1e000 button').onclick = (e) => {\n",
              "        document.querySelector('#id-98fb314d-9405-40f7-9383-c4cb3ff1e000').classList.toggle('show_array');\n",
              "        index = (++index) % 2;\n",
              "        document.querySelector('#id-98fb314d-9405-40f7-9383-c4cb3ff1e000 button').textContent = titles[index];\n",
              "        e.preventDefault();\n",
              "        e.stopPropagation();\n",
              "      }\n",
              "      })();\n",
              "    </script>"
            ]
          },
          "metadata": {},
          "execution_count": 79
        }
      ]
    },
    {
      "cell_type": "code",
      "source": [
        "images_size = (128, 128)\n",
        "x = []\n",
        "y = []\n",
        "\n",
        "def filesToImage(filtered_paths, images):\n",
        "  for i in filtered_paths:\n",
        "    img = cv2.imread(i)\n",
        "    img = cv2.cvtColor(img, cv2.COLOR_BGR2RGB)\n",
        "    img = cv2.resize(img, images_size)\n",
        "\n",
        "    images.append(img)\n",
        "\n",
        "filesToImage(x_filtered, x)\n",
        "filesToImage(y_filtered, y)\n",
        "\n",
        "x = np.array(x)\n",
        "y = np.array(y)\n"
      ],
      "metadata": {
        "id": "JP60Xgoo9Avl"
      },
      "execution_count": 80,
      "outputs": []
    },
    {
      "cell_type": "code",
      "source": [
        "!pip install h5py"
      ],
      "metadata": {
        "colab": {
          "base_uri": "https://localhost:8080/"
        },
        "id": "Hk1k80PzEe3Q",
        "outputId": "06815856-daed-43fc-8f4f-1950536e8291"
      },
      "execution_count": 81,
      "outputs": [
        {
          "output_type": "stream",
          "name": "stdout",
          "text": [
            "Requirement already satisfied: h5py in /usr/local/lib/python3.10/dist-packages (3.11.0)\n",
            "Requirement already satisfied: numpy>=1.17.3 in /usr/local/lib/python3.10/dist-packages (from h5py) (1.26.4)\n"
          ]
        }
      ]
    },
    {
      "cell_type": "code",
      "source": [
        "x[300]"
      ],
      "metadata": {
        "colab": {
          "base_uri": "https://localhost:8080/",
          "height": 169
        },
        "id": "7Ca9TmZ-SxGV",
        "outputId": "05836114-1f21-4765-b79b-11cf7b5a6d93"
      },
      "execution_count": 86,
      "outputs": [
        {
          "output_type": "execute_result",
          "data": {
            "text/plain": [
              "array([[[218, 218, 218],\n",
              "        [219, 219, 219],\n",
              "        [220, 220, 220],\n",
              "        ...,\n",
              "        [ 99,  99,  99],\n",
              "        [ 98,  98,  98],\n",
              "        [ 97,  97,  97]],\n",
              "\n",
              "       [[202, 202, 202],\n",
              "        [207, 207, 207],\n",
              "        [211, 211, 211],\n",
              "        ...,\n",
              "        [ 99,  99,  99],\n",
              "        [ 99,  99,  99],\n",
              "        [ 98,  98,  98]],\n",
              "\n",
              "       [[190, 190, 190],\n",
              "        [193, 193, 193],\n",
              "        [196, 196, 196],\n",
              "        ...,\n",
              "        [100, 100, 100],\n",
              "        [101, 101, 101],\n",
              "        [100, 100, 100]],\n",
              "\n",
              "       ...,\n",
              "\n",
              "       [[ 44,  44,  44],\n",
              "        [ 45,  45,  45],\n",
              "        [ 45,  45,  45],\n",
              "        ...,\n",
              "        [ 51,  51,  51],\n",
              "        [ 51,  51,  51],\n",
              "        [ 51,  51,  51]],\n",
              "\n",
              "       [[ 48,  48,  48],\n",
              "        [ 48,  48,  48],\n",
              "        [ 48,  48,  48],\n",
              "        ...,\n",
              "        [ 51,  51,  51],\n",
              "        [ 51,  51,  51],\n",
              "        [ 51,  51,  51]],\n",
              "\n",
              "       [[ 59,  59,  59],\n",
              "        [ 60,  60,  60],\n",
              "        [ 61,  61,  61],\n",
              "        ...,\n",
              "        [ 52,  52,  52],\n",
              "        [ 53,  53,  53],\n",
              "        [ 52,  52,  52]]], dtype=uint8)"
            ],
            "text/html": [
              "<style>\n",
              "      .ndarray_repr .ndarray_raw_data {\n",
              "        display: none;\n",
              "      }\n",
              "      .ndarray_repr.show_array .ndarray_raw_data {\n",
              "        display: block;\n",
              "      }\n",
              "      .ndarray_repr.show_array .ndarray_image_preview {\n",
              "        display: none;\n",
              "      }\n",
              "      </style>\n",
              "      <div id=\"id-6728466b-cf42-4f22-9cb3-70217045efa9\" class=\"ndarray_repr\"><pre>ndarray (128, 128, 3) <button style=\"padding: 0 2px;\">show data</button></pre><img src=\"data:image/png;base64,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\" class=\"ndarray_image_preview\" /><pre class=\"ndarray_raw_data\">array([[[218, 218, 218],\n",
              "        [219, 219, 219],\n",
              "        [220, 220, 220],\n",
              "        ...,\n",
              "        [ 99,  99,  99],\n",
              "        [ 98,  98,  98],\n",
              "        [ 97,  97,  97]],\n",
              "\n",
              "       [[202, 202, 202],\n",
              "        [207, 207, 207],\n",
              "        [211, 211, 211],\n",
              "        ...,\n",
              "        [ 99,  99,  99],\n",
              "        [ 99,  99,  99],\n",
              "        [ 98,  98,  98]],\n",
              "\n",
              "       [[190, 190, 190],\n",
              "        [193, 193, 193],\n",
              "        [196, 196, 196],\n",
              "        ...,\n",
              "        [100, 100, 100],\n",
              "        [101, 101, 101],\n",
              "        [100, 100, 100]],\n",
              "\n",
              "       ...,\n",
              "\n",
              "       [[ 44,  44,  44],\n",
              "        [ 45,  45,  45],\n",
              "        [ 45,  45,  45],\n",
              "        ...,\n",
              "        [ 51,  51,  51],\n",
              "        [ 51,  51,  51],\n",
              "        [ 51,  51,  51]],\n",
              "\n",
              "       [[ 48,  48,  48],\n",
              "        [ 48,  48,  48],\n",
              "        [ 48,  48,  48],\n",
              "        ...,\n",
              "        [ 51,  51,  51],\n",
              "        [ 51,  51,  51],\n",
              "        [ 51,  51,  51]],\n",
              "\n",
              "       [[ 59,  59,  59],\n",
              "        [ 60,  60,  60],\n",
              "        [ 61,  61,  61],\n",
              "        ...,\n",
              "        [ 52,  52,  52],\n",
              "        [ 53,  53,  53],\n",
              "        [ 52,  52,  52]]], dtype=uint8)</pre></div><script>\n",
              "      (() => {\n",
              "      const titles = ['show data', 'hide data'];\n",
              "      let index = 0\n",
              "      document.querySelector('#id-6728466b-cf42-4f22-9cb3-70217045efa9 button').onclick = (e) => {\n",
              "        document.querySelector('#id-6728466b-cf42-4f22-9cb3-70217045efa9').classList.toggle('show_array');\n",
              "        index = (++index) % 2;\n",
              "        document.querySelector('#id-6728466b-cf42-4f22-9cb3-70217045efa9 button').textContent = titles[index];\n",
              "        e.preventDefault();\n",
              "        e.stopPropagation();\n",
              "      }\n",
              "      })();\n",
              "    </script>"
            ]
          },
          "metadata": {},
          "execution_count": 86
        }
      ]
    },
    {
      "cell_type": "code",
      "source": [
        "y[300]"
      ],
      "metadata": {
        "colab": {
          "base_uri": "https://localhost:8080/",
          "height": 169
        },
        "id": "r5PzommBSzYz",
        "outputId": "5269996f-07eb-4f35-d3e7-d366fe9067ea"
      },
      "execution_count": 87,
      "outputs": [
        {
          "output_type": "execute_result",
          "data": {
            "text/plain": [
              "array([[[0, 0, 0],\n",
              "        [0, 0, 0],\n",
              "        [0, 0, 0],\n",
              "        ...,\n",
              "        [0, 0, 0],\n",
              "        [0, 0, 0],\n",
              "        [0, 0, 0]],\n",
              "\n",
              "       [[0, 0, 0],\n",
              "        [0, 0, 0],\n",
              "        [0, 0, 0],\n",
              "        ...,\n",
              "        [0, 0, 0],\n",
              "        [0, 0, 0],\n",
              "        [0, 0, 0]],\n",
              "\n",
              "       [[0, 0, 0],\n",
              "        [0, 0, 0],\n",
              "        [0, 0, 0],\n",
              "        ...,\n",
              "        [0, 0, 0],\n",
              "        [0, 0, 0],\n",
              "        [0, 0, 0]],\n",
              "\n",
              "       ...,\n",
              "\n",
              "       [[0, 0, 0],\n",
              "        [0, 0, 0],\n",
              "        [0, 0, 0],\n",
              "        ...,\n",
              "        [0, 0, 0],\n",
              "        [0, 0, 0],\n",
              "        [0, 0, 0]],\n",
              "\n",
              "       [[0, 0, 0],\n",
              "        [0, 0, 0],\n",
              "        [0, 0, 0],\n",
              "        ...,\n",
              "        [0, 0, 0],\n",
              "        [0, 0, 0],\n",
              "        [0, 0, 0]],\n",
              "\n",
              "       [[0, 0, 0],\n",
              "        [0, 0, 0],\n",
              "        [0, 0, 0],\n",
              "        ...,\n",
              "        [0, 0, 0],\n",
              "        [0, 0, 0],\n",
              "        [0, 0, 0]]], dtype=uint8)"
            ],
            "text/html": [
              "<style>\n",
              "      .ndarray_repr .ndarray_raw_data {\n",
              "        display: none;\n",
              "      }\n",
              "      .ndarray_repr.show_array .ndarray_raw_data {\n",
              "        display: block;\n",
              "      }\n",
              "      .ndarray_repr.show_array .ndarray_image_preview {\n",
              "        display: none;\n",
              "      }\n",
              "      </style>\n",
              "      <div id=\"id-5053239a-3745-4906-8457-74bffd68d539\" class=\"ndarray_repr\"><pre>ndarray (128, 128, 3) <button style=\"padding: 0 2px;\">show data</button></pre><img src=\"data:image/png;base64,iVBORw0KGgoAAAANSUhEUgAAAIAAAACACAIAAABMXPacAAAA/ElEQVR4nO3asQmDUBRAUQlZIBPE/TuXcAdrJ3ABTZvOQvCGcE794T25aPFxGAAAAAAAAAAAAAAAAIArjtQ8z+3jP9rxCBATICZATICYADEBYgLEBIgJEBMgJkBMgJgAsWe9wJd9H7bt5Mzrdcsq9/mlAOs6jOPJmeO4Y5Mb+QTFBIgJEBMgJkBMgJgAMQFiAsQEiAkQEyAmQEyA2C9dR7/f/3fbfMobEBMgJkBMgJgAMQFiAsQEiAkQEyAmQEyAmAAxAWICxASICRATICZATICYADEBYgLEBIgJEBMgJkBMgFj/c+40TeH0ZVnC6QAAAAAAAAAAAAAAAFz3AW2WjzOrtzfNAAAAAElFTkSuQmCC\" class=\"ndarray_image_preview\" /><pre class=\"ndarray_raw_data\">array([[[0, 0, 0],\n",
              "        [0, 0, 0],\n",
              "        [0, 0, 0],\n",
              "        ...,\n",
              "        [0, 0, 0],\n",
              "        [0, 0, 0],\n",
              "        [0, 0, 0]],\n",
              "\n",
              "       [[0, 0, 0],\n",
              "        [0, 0, 0],\n",
              "        [0, 0, 0],\n",
              "        ...,\n",
              "        [0, 0, 0],\n",
              "        [0, 0, 0],\n",
              "        [0, 0, 0]],\n",
              "\n",
              "       [[0, 0, 0],\n",
              "        [0, 0, 0],\n",
              "        [0, 0, 0],\n",
              "        ...,\n",
              "        [0, 0, 0],\n",
              "        [0, 0, 0],\n",
              "        [0, 0, 0]],\n",
              "\n",
              "       ...,\n",
              "\n",
              "       [[0, 0, 0],\n",
              "        [0, 0, 0],\n",
              "        [0, 0, 0],\n",
              "        ...,\n",
              "        [0, 0, 0],\n",
              "        [0, 0, 0],\n",
              "        [0, 0, 0]],\n",
              "\n",
              "       [[0, 0, 0],\n",
              "        [0, 0, 0],\n",
              "        [0, 0, 0],\n",
              "        ...,\n",
              "        [0, 0, 0],\n",
              "        [0, 0, 0],\n",
              "        [0, 0, 0]],\n",
              "\n",
              "       [[0, 0, 0],\n",
              "        [0, 0, 0],\n",
              "        [0, 0, 0],\n",
              "        ...,\n",
              "        [0, 0, 0],\n",
              "        [0, 0, 0],\n",
              "        [0, 0, 0]]], dtype=uint8)</pre></div><script>\n",
              "      (() => {\n",
              "      const titles = ['show data', 'hide data'];\n",
              "      let index = 0\n",
              "      document.querySelector('#id-5053239a-3745-4906-8457-74bffd68d539 button').onclick = (e) => {\n",
              "        document.querySelector('#id-5053239a-3745-4906-8457-74bffd68d539').classList.toggle('show_array');\n",
              "        index = (++index) % 2;\n",
              "        document.querySelector('#id-5053239a-3745-4906-8457-74bffd68d539 button').textContent = titles[index];\n",
              "        e.preventDefault();\n",
              "        e.stopPropagation();\n",
              "      }\n",
              "      })();\n",
              "    </script>"
            ]
          },
          "metadata": {},
          "execution_count": 87
        }
      ]
    },
    {
      "cell_type": "code",
      "source": [
        "import h5py\n",
        "\n",
        "with h5py.File('dataset.h5', 'w') as hf:\n",
        "  hf.create_dataset('x', data=x)\n",
        "  hf.create_dataset('y', data=y)"
      ],
      "metadata": {
        "id": "STLFb1t1B5nH"
      },
      "execution_count": 89,
      "outputs": []
    },
    {
      "cell_type": "code",
      "source": [],
      "metadata": {
        "id": "C0cfvfAeUaSl"
      },
      "execution_count": 89,
      "outputs": []
    }
  ]
}