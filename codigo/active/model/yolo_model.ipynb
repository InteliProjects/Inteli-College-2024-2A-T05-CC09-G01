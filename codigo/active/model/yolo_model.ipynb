{
  "nbformat": 4,
  "nbformat_minor": 0,
  "metadata": {
    "colab": {
      "provenance": []
    },
    "kernelspec": {
      "name": "python3",
      "display_name": "Python 3"
    },
    "language_info": {
      "name": "python"
    }
  },
  "cells": [
    {
      "cell_type": "code",
      "execution_count": null,
      "metadata": {
        "id": "F3lhFhGtVB8C"
      },
      "outputs": [],
      "source": [
        "from google.colab import drive\n",
        "drive.mount('/content/drive')"
      ]
    },
    {
      "cell_type": "code",
      "source": [
        "!pip install ultralytics\n",
        "!pip install simple-online-realtime-tracking"
      ],
      "metadata": {
        "id": "mzgPnDRgVISg"
      },
      "execution_count": null,
      "outputs": []
    },
    {
      "cell_type": "code",
      "source": [
        "!curl -L \"https://app.roboflow.com/ds/mOaUKWEMHZ?key=IYnXgjqPcd\" > roboflow.zip; unzip roboflow.zip; rm roboflow.zip"
      ],
      "metadata": {
        "id": "j9aUeJwnVLbD"
      },
      "execution_count": null,
      "outputs": []
    },
    {
      "cell_type": "code",
      "source": [
        "from ultralytics import YOLO\n",
        "model = YOLO('yolov8n.pt')\n",
        "\n",
        "# Step 6: Train the model\n",
        "model.train(\n",
        "    data='/content/data.yaml',\n",
        "    epochs=50,\n",
        "    imgsz=640,\n",
        "    batch=16,\n",
        "    workers=4\n",
        ")\n",
        "\n",
        "# Step 7: Validate the model\n",
        "metrics = model.val()\n"
      ],
      "metadata": {
        "id": "hfaCKSjXVM52"
      },
      "execution_count": null,
      "outputs": []
    }
  ]
}